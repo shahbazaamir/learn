{
  "cells": [
    {
      "cell_type": "markdown",
      "metadata": {
        "id": "view-in-github",
        "colab_type": "text"
      },
      "source": [
        "<a href=\"https://colab.research.google.com/github/progvocab/products-service/blob/master/programming/python/notebooks/AlgoTest.ipynb\" target=\"_parent\"><img src=\"https://colab.research.google.com/assets/colab-badge.svg\" alt=\"Open In Colab\"/></a>"
      ]
    },
    {
      "cell_type": "code",
      "source": [
        "from google.colab import drive\n",
        "drive.mount('/content/drive')"
      ],
      "metadata": {
        "id": "o1uLFcp7WBe-"
      },
      "id": "o1uLFcp7WBe-",
      "execution_count": null,
      "outputs": []
    },
    {
      "cell_type": "code",
      "source": [
        "!wget https://raw.githubusercontent.com/progvocab/products-service/master/programming/python/notebooks/algo/kadane.py\n"
      ],
      "metadata": {
        "colab": {
          "base_uri": "https://localhost:8080/"
        },
        "id": "pnN0ig8qXxel",
        "outputId": "dfe36ea3-ebf6-4ec5-ffcd-72ffe3fc3022"
      },
      "id": "pnN0ig8qXxel",
      "execution_count": 6,
      "outputs": [
        {
          "output_type": "stream",
          "name": "stdout",
          "text": [
            "--2025-05-19 16:30:17--  https://raw.githubusercontent.com/progvocab/products-service/master/programming/python/notebooks/algo/kadane.py\n",
            "Resolving raw.githubusercontent.com (raw.githubusercontent.com)... 185.199.110.133, 185.199.111.133, 185.199.109.133, ...\n",
            "Connecting to raw.githubusercontent.com (raw.githubusercontent.com)|185.199.110.133|:443... connected.\n",
            "HTTP request sent, awaiting response... 200 OK\n",
            "Length: 289 [text/plain]\n",
            "Saving to: ‘kadane.py.1’\n",
            "\n",
            "\rkadane.py.1           0%[                    ]       0  --.-KB/s               \rkadane.py.1         100%[===================>]     289  --.-KB/s    in 0s      \n",
            "\n",
            "2025-05-19 16:30:17 (6.08 MB/s) - ‘kadane.py.1’ saved [289/289]\n",
            "\n"
          ]
        }
      ]
    },
    {
      "cell_type": "code",
      "execution_count": 7,
      "id": "eef1e274-0a04-4393-af89-a41db9171fef",
      "metadata": {
        "id": "eef1e274-0a04-4393-af89-a41db9171fef"
      },
      "outputs": [],
      "source": [
        "from kadane import kadane_algorithm"
      ]
    },
    {
      "cell_type": "code",
      "execution_count": 9,
      "id": "5a08cdb6-ba67-428b-a6cd-9aadcfa39e66",
      "metadata": {
        "id": "5a08cdb6-ba67-428b-a6cd-9aadcfa39e66"
      },
      "outputs": [],
      "source": [
        "arrs = [[1, 2, 3, -2, 5], [9] , [5,5] , [5,-5] , [ -1,-2,-3,-4,-5]]"
      ]
    },
    {
      "cell_type": "code",
      "execution_count": 10,
      "id": "d3df5d62-197d-4cc6-8661-e904b4d182a4",
      "metadata": {
        "id": "d3df5d62-197d-4cc6-8661-e904b4d182a4"
      },
      "outputs": [],
      "source": [
        "largest = kadane_algorithm(arrs[4])"
      ]
    },
    {
      "cell_type": "code",
      "execution_count": null,
      "id": "10a6a9cb-c87e-42bf-a1be-eb2a6b88a549",
      "metadata": {
        "id": "10a6a9cb-c87e-42bf-a1be-eb2a6b88a549",
        "outputId": "a8316a10-95ab-4414-f091-9e6e7a9d39fb"
      },
      "outputs": [
        {
          "data": {
            "text/plain": [
              "-1"
            ]
          },
          "execution_count": 21,
          "metadata": {},
          "output_type": "execute_result"
        }
      ],
      "source": [
        "largest"
      ]
    },
    {
      "cell_type": "code",
      "execution_count": 11,
      "id": "e8d48e98-9add-43ea-aca7-546a52fb1a5b",
      "metadata": {
        "id": "e8d48e98-9add-43ea-aca7-546a52fb1a5b"
      },
      "outputs": [],
      "source": [
        "import heapq"
      ]
    },
    {
      "cell_type": "code",
      "execution_count": 12,
      "id": "49f63681-a9c2-45c4-adc7-5cf93605bde0",
      "metadata": {
        "id": "49f63681-a9c2-45c4-adc7-5cf93605bde0"
      },
      "outputs": [],
      "source": [
        "mylist = [1,2,4,5,6,7,4,3,6,4,1]"
      ]
    },
    {
      "cell_type": "code",
      "execution_count": 13,
      "id": "ecdd1195-892f-4800-bb9e-9e21b292a697",
      "metadata": {
        "id": "ecdd1195-892f-4800-bb9e-9e21b292a697"
      },
      "outputs": [],
      "source": [
        "heapq.heapify(mylist)"
      ]
    },
    {
      "cell_type": "code",
      "execution_count": 14,
      "id": "48158857-52e6-4902-b01f-9abfb17fe74d",
      "metadata": {
        "colab": {
          "base_uri": "https://localhost:8080/"
        },
        "id": "48158857-52e6-4902-b01f-9abfb17fe74d",
        "outputId": "d4ac19ba-1ff1-40de-97ba-654b0891ea45"
      },
      "outputs": [
        {
          "output_type": "execute_result",
          "data": {
            "text/plain": [
              "[1, 1, 4, 3, 2, 7, 4, 5, 6, 4, 6]"
            ]
          },
          "metadata": {},
          "execution_count": 14
        }
      ],
      "source": [
        "mylist"
      ]
    },
    {
      "cell_type": "code",
      "execution_count": 15,
      "id": "8d67d641-84dc-4870-9870-16c7a28a3139",
      "metadata": {
        "id": "8d67d641-84dc-4870-9870-16c7a28a3139"
      },
      "outputs": [],
      "source": [
        "heapq.heappush(mylist, 0)"
      ]
    },
    {
      "cell_type": "code",
      "execution_count": 16,
      "id": "3e961249-a86c-429d-8692-73caa049fb68",
      "metadata": {
        "colab": {
          "base_uri": "https://localhost:8080/"
        },
        "id": "3e961249-a86c-429d-8692-73caa049fb68",
        "outputId": "84a18ecf-1261-42f5-e7b5-7bfa58f03946"
      },
      "outputs": [
        {
          "output_type": "execute_result",
          "data": {
            "text/plain": [
              "[0, 1, 1, 3, 2, 4, 4, 5, 6, 4, 6, 7]"
            ]
          },
          "metadata": {},
          "execution_count": 16
        }
      ],
      "source": [
        "mylist"
      ]
    },
    {
      "cell_type": "code",
      "execution_count": 17,
      "id": "11d01fc3-b714-446a-b610-2560ef3ff91b",
      "metadata": {
        "colab": {
          "base_uri": "https://localhost:8080/"
        },
        "id": "11d01fc3-b714-446a-b610-2560ef3ff91b",
        "outputId": "09b28b2f-052d-417d-a71b-3dc15c946ac9"
      },
      "outputs": [
        {
          "output_type": "execute_result",
          "data": {
            "text/plain": [
              "0"
            ]
          },
          "metadata": {},
          "execution_count": 17
        }
      ],
      "source": [
        "heapq.heappop(mylist)"
      ]
    },
    {
      "cell_type": "code",
      "execution_count": null,
      "id": "e76825ae-f296-4bfd-be1b-8ed907e142c6",
      "metadata": {
        "id": "e76825ae-f296-4bfd-be1b-8ed907e142c6"
      },
      "outputs": [],
      "source": []
    }
  ],
  "metadata": {
    "kernelspec": {
      "display_name": "Python 3 (ipykernel)",
      "language": "python",
      "name": "python3"
    },
    "language_info": {
      "codemirror_mode": {
        "name": "ipython",
        "version": 3
      },
      "file_extension": ".py",
      "mimetype": "text/x-python",
      "name": "python",
      "nbconvert_exporter": "python",
      "pygments_lexer": "ipython3",
      "version": "3.11.3"
    },
    "colab": {
      "provenance": [],
      "include_colab_link": true
    }
  },
  "nbformat": 4,
  "nbformat_minor": 5
}