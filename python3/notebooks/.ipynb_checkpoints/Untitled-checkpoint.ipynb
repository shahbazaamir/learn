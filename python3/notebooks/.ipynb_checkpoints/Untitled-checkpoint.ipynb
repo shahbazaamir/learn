{
 "cells": [
  {
   "cell_type": "code",
   "execution_count": 1,
   "id": "eef1e274-0a04-4393-af89-a41db9171fef",
   "metadata": {},
   "outputs": [],
   "source": [
    "from algo.kadane import kadane_algorithm "
   ]
  },
  {
   "cell_type": "code",
   "execution_count": 19,
   "id": "5a08cdb6-ba67-428b-a6cd-9aadcfa39e66",
   "metadata": {},
   "outputs": [],
   "source": [
    "arrs = [[1, 2, 3, -2, 5], [9] , [5,5] , [5,-5] , [ -1,-2,-3,-4,-5]]"
   ]
  },
  {
   "cell_type": "code",
   "execution_count": 20,
   "id": "d3df5d62-197d-4cc6-8661-e904b4d182a4",
   "metadata": {},
   "outputs": [],
   "source": [
    "largest = kadane_algorithm(arrs[4])"
   ]
  },
  {
   "cell_type": "code",
   "execution_count": 21,
   "id": "10a6a9cb-c87e-42bf-a1be-eb2a6b88a549",
   "metadata": {},
   "outputs": [
    {
     "data": {
      "text/plain": [
       "-1"
      ]
     },
     "execution_count": 21,
     "metadata": {},
     "output_type": "execute_result"
    }
   ],
   "source": [
    "largest"
   ]
  },
  {
   "cell_type": "code",
   "execution_count": null,
   "id": "e8d48e98-9add-43ea-aca7-546a52fb1a5b",
   "metadata": {},
   "outputs": [],
   "source": []
  }
 ],
 "metadata": {
  "kernelspec": {
   "display_name": "Python 3 (ipykernel)",
   "language": "python",
   "name": "python3"
  },
  "language_info": {
   "codemirror_mode": {
    "name": "ipython",
    "version": 3
   },
   "file_extension": ".py",
   "mimetype": "text/x-python",
   "name": "python",
   "nbconvert_exporter": "python",
   "pygments_lexer": "ipython3",
   "version": "3.11.3"
  }
 },
 "nbformat": 4,
 "nbformat_minor": 5
}
