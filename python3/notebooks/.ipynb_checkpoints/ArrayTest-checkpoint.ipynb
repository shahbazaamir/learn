{
 "cells": [
  {
   "cell_type": "code",
   "execution_count": null,
   "id": "a04e98c6-e972-42bb-b798-68f7f273d84d",
   "metadata": {},
   "outputs": [],
   "source": []
  }
 ],
 "metadata": {
  "kernelspec": {
   "display_name": "",
   "name": ""
  },
  "language_info": {
   "name": ""
  }
 },
 "nbformat": 4,
 "nbformat_minor": 5
}
