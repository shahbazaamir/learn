{
 "cells": [
  {
   "cell_type": "code",
   "execution_count": 1,
   "id": "a04e98c6-e972-42bb-b798-68f7f273d84d",
   "metadata": {},
   "outputs": [],
   "source": [
    "arr = [1,2,3]"
   ]
  },
  {
   "cell_type": "code",
   "execution_count": 2,
   "id": "4c04dfe6-5342-463e-a0ce-ec0256bd0bc3",
   "metadata": {},
   "outputs": [
    {
     "data": {
      "text/plain": [
       "[1, 2, 3]"
      ]
     },
     "execution_count": 2,
     "metadata": {},
     "output_type": "execute_result"
    }
   ],
   "source": [
    "arr"
   ]
  },
  {
   "cell_type": "code",
   "execution_count": 1,
   "id": "8a909eac-0e8c-4863-bcc4-9fa7eb8a94e7",
   "metadata": {},
   "outputs": [],
   "source": [
    "from algo.array.rotate import rotate_right,rotate_left , reverse ,sort_with_rotate_reverse"
   ]
  },
  {
   "cell_type": "code",
   "execution_count": 2,
   "id": "8e56ed74-8d6c-4cb5-8370-d289313c5b69",
   "metadata": {},
   "outputs": [],
   "source": [
    "arr4= [1,  3, 5,  7, 8, 9, 10,2, 4,6,]  \n",
    "arr5 = sort_with_rotate_reverse(arr4)"
   ]
  },
  {
   "cell_type": "code",
   "execution_count": 3,
   "id": "3b57630a-47f4-4830-b598-cedd8c9ec623",
   "metadata": {},
   "outputs": [
    {
     "data": {
      "text/plain": [
       "[1, 3, 5, 7, 8, 9, 10, 2, 4, 6]"
      ]
     },
     "execution_count": 3,
     "metadata": {},
     "output_type": "execute_result"
    }
   ],
   "source": [
    "arr5"
   ]
  },
  {
   "cell_type": "code",
   "execution_count": null,
   "id": "a02b1116-3ea3-49e8-a95a-52f2e77544c2",
   "metadata": {},
   "outputs": [],
   "source": []
  }
 ],
 "metadata": {
  "kernelspec": {
   "display_name": "Python 3 (ipykernel)",
   "language": "python",
   "name": "python3"
  },
  "language_info": {
   "codemirror_mode": {
    "name": "ipython",
    "version": 3
   },
   "file_extension": ".py",
   "mimetype": "text/x-python",
   "name": "python",
   "nbconvert_exporter": "python",
   "pygments_lexer": "ipython3",
   "version": "3.9.6"
  }
 },
 "nbformat": 4,
 "nbformat_minor": 5
}
