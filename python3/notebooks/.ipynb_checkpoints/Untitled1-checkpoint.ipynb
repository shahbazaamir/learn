{
 "cells": [
  {
   "cell_type": "code",
   "execution_count": null,
   "id": "0708743e-df89-4601-a658-3a1bafe45008",
   "metadata": {},
   "outputs": [],
   "source": []
  }
 ],
 "metadata": {
  "kernelspec": {
   "display_name": "",
   "name": ""
  },
  "language_info": {
   "name": ""
  }
 },
 "nbformat": 4,
 "nbformat_minor": 5
}
