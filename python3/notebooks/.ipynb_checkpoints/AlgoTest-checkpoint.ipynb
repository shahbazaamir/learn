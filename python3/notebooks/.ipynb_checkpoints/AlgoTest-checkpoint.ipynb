{
 "cells": [
  {
   "cell_type": "code",
   "execution_count": 1,
   "id": "eef1e274-0a04-4393-af89-a41db9171fef",
   "metadata": {},
   "outputs": [],
   "source": [
    "from algo.kadane import kadane_algorithm "
   ]
  },
  {
   "cell_type": "code",
   "execution_count": 19,
   "id": "5a08cdb6-ba67-428b-a6cd-9aadcfa39e66",
   "metadata": {},
   "outputs": [],
   "source": [
    "arrs = [[1, 2, 3, -2, 5], [9] , [5,5] , [5,-5] , [ -1,-2,-3,-4,-5]]"
   ]
  },
  {
   "cell_type": "code",
   "execution_count": 20,
   "id": "d3df5d62-197d-4cc6-8661-e904b4d182a4",
   "metadata": {},
   "outputs": [],
   "source": [
    "largest = kadane_algorithm(arrs[4])"
   ]
  },
  {
   "cell_type": "code",
   "execution_count": 21,
   "id": "10a6a9cb-c87e-42bf-a1be-eb2a6b88a549",
   "metadata": {},
   "outputs": [
    {
     "data": {
      "text/plain": [
       "-1"
      ]
     },
     "execution_count": 21,
     "metadata": {},
     "output_type": "execute_result"
    }
   ],
   "source": [
    "largest"
   ]
  },
  {
   "cell_type": "code",
   "execution_count": 1,
   "id": "e8d48e98-9add-43ea-aca7-546a52fb1a5b",
   "metadata": {},
   "outputs": [],
   "source": [
    "import heapq"
   ]
  },
  {
   "cell_type": "code",
   "execution_count": 2,
   "id": "49f63681-a9c2-45c4-adc7-5cf93605bde0",
   "metadata": {},
   "outputs": [],
   "source": [
    "mylist = [1,2,4,5,6,7,4,3,6,4,1]"
   ]
  },
  {
   "cell_type": "code",
   "execution_count": 3,
   "id": "ecdd1195-892f-4800-bb9e-9e21b292a697",
   "metadata": {},
   "outputs": [],
   "source": [
    "heapq.heapify(mylist)"
   ]
  },
  {
   "cell_type": "code",
   "execution_count": 4,
   "id": "48158857-52e6-4902-b01f-9abfb17fe74d",
   "metadata": {},
   "outputs": [
    {
     "data": {
      "text/plain": [
       "[1, 1, 4, 3, 2, 7, 4, 5, 6, 4, 6]"
      ]
     },
     "execution_count": 4,
     "metadata": {},
     "output_type": "execute_result"
    }
   ],
   "source": [
    "mylist"
   ]
  },
  {
   "cell_type": "code",
   "execution_count": 5,
   "id": "8d67d641-84dc-4870-9870-16c7a28a3139",
   "metadata": {},
   "outputs": [],
   "source": [
    "heapq.heappush(mylist, 0)"
   ]
  },
  {
   "cell_type": "code",
   "execution_count": 6,
   "id": "3e961249-a86c-429d-8692-73caa049fb68",
   "metadata": {},
   "outputs": [
    {
     "data": {
      "text/plain": [
       "[0, 1, 1, 3, 2, 4, 4, 5, 6, 4, 6, 7]"
      ]
     },
     "execution_count": 6,
     "metadata": {},
     "output_type": "execute_result"
    }
   ],
   "source": [
    "mylist"
   ]
  },
  {
   "cell_type": "code",
   "execution_count": 7,
   "id": "11d01fc3-b714-446a-b610-2560ef3ff91b",
   "metadata": {},
   "outputs": [
    {
     "data": {
      "text/plain": [
       "0"
      ]
     },
     "execution_count": 7,
     "metadata": {},
     "output_type": "execute_result"
    }
   ],
   "source": [
    "heapq.heappop(mylist)"
   ]
  },
  {
   "cell_type": "code",
   "execution_count": null,
   "id": "e76825ae-f296-4bfd-be1b-8ed907e142c6",
   "metadata": {},
   "outputs": [],
   "source": []
  }
 ],
 "metadata": {
  "kernelspec": {
   "display_name": "Python 3 (ipykernel)",
   "language": "python",
   "name": "python3"
  },
  "language_info": {
   "codemirror_mode": {
    "name": "ipython",
    "version": 3
   },
   "file_extension": ".py",
   "mimetype": "text/x-python",
   "name": "python",
   "nbconvert_exporter": "python",
   "pygments_lexer": "ipython3",
   "version": "3.11.3"
  }
 },
 "nbformat": 4,
 "nbformat_minor": 5
}
