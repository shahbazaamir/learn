{
  "cells": [
    {
      "cell_type": "markdown",
      "metadata": {
        "id": "view-in-github",
        "colab_type": "text"
      },
      "source": [
        "<a href=\"https://colab.research.google.com/github/progvocab/products-service/blob/master/programming/python/notebooks/TestTree.ipynb\" target=\"_parent\"><img src=\"https://colab.research.google.com/assets/colab-badge.svg\" alt=\"Open In Colab\"/></a>"
      ]
    },
    {
      "cell_type": "code",
      "source": [
        "from google.colab import drive\n",
        "drive.mount('/content/drive')"
      ],
      "metadata": {
        "id": "o1uLFcp7WBe-"
      },
      "id": "o1uLFcp7WBe-",
      "execution_count": null,
      "outputs": []
    },
    {
      "cell_type": "code",
      "source": [
        "!wget https://raw.githubusercontent.com/progvocab/products-service/master/programming/python/notebooks/ds/tree.py\n"
      ],
      "metadata": {
        "colab": {
          "base_uri": "https://localhost:8080/"
        },
        "id": "pnN0ig8qXxel",
        "outputId": "12b4f510-82e8-434d-f4de-bf9d7da8f2b9"
      },
      "id": "pnN0ig8qXxel",
      "execution_count": 1,
      "outputs": [
        {
          "output_type": "stream",
          "name": "stdout",
          "text": [
            "--2025-05-19 16:42:34--  https://raw.githubusercontent.com/progvocab/products-service/master/programming/python/notebooks/ds/tree.py\n",
            "Resolving raw.githubusercontent.com (raw.githubusercontent.com)... 185.199.111.133, 185.199.109.133, 185.199.110.133, ...\n",
            "Connecting to raw.githubusercontent.com (raw.githubusercontent.com)|185.199.111.133|:443... connected.\n",
            "HTTP request sent, awaiting response... 200 OK\n",
            "Length: 0 [text/plain]\n",
            "Saving to: ‘tree.py’\n",
            "\n",
            "\rtree.py                 [<=>                 ]       0  --.-KB/s               \rtree.py                 [ <=>                ]       0  --.-KB/s    in 0s      \n",
            "\n",
            "2025-05-19 16:42:34 (0.00 B/s) - ‘tree.py’ saved [0/0]\n",
            "\n"
          ]
        }
      ]
    },
    {
      "cell_type": "code",
      "execution_count": null,
      "id": "eef1e274-0a04-4393-af89-a41db9171fef",
      "metadata": {
        "id": "eef1e274-0a04-4393-af89-a41db9171fef"
      },
      "outputs": [],
      "source": [
        "from kadane import kadane_algorithm"
      ]
    }
  ],
  "metadata": {
    "kernelspec": {
      "display_name": "Python 3 (ipykernel)",
      "language": "python",
      "name": "python3"
    },
    "language_info": {
      "codemirror_mode": {
        "name": "ipython",
        "version": 3
      },
      "file_extension": ".py",
      "mimetype": "text/x-python",
      "name": "python",
      "nbconvert_exporter": "python",
      "pygments_lexer": "ipython3",
      "version": "3.11.3"
    },
    "colab": {
      "provenance": [],
      "include_colab_link": true
    }
  },
  "nbformat": 4,
  "nbformat_minor": 5
}